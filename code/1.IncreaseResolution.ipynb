{
 "cells": [
  {
   "cell_type": "markdown",
   "metadata": {},
   "source": [
    "## Interpolation Using OpeCV"
   ]
  },
  {
   "cell_type": "code",
   "execution_count": 1,
   "metadata": {},
   "outputs": [
    {
     "name": "stdout",
     "output_type": "stream",
     "text": [
      "[[1 5]\n",
      " [4 8]]\n",
      "[[1 1 5 5]\n",
      " [1 1 5 5]\n",
      " [4 4 8 8]\n",
      " [4 4 8 8]]\n"
     ]
    }
   ],
   "source": [
    "# example 1\n",
    "import numpy as np\n",
    "import cv2\n",
    "\n",
    "data = np.array([[1, 5],\n",
    "                 [4, 8]])\n",
    "\n",
    "# new dimension\n",
    "width, height = 2, 2\n",
    "upscale = 2\n",
    "new_dim = (width*upscale, height*upscale)\n",
    "\n",
    "# upsampling the data\n",
    "resize_nearest = cv2.resize(data, new_dim, \n",
    "                            interpolation=cv2.INTER_NEAREST)\n",
    "\n",
    "print(data)\n",
    "print(resize_nearest)"
   ]
  },
  {
   "cell_type": "code",
   "execution_count": null,
   "metadata": {},
   "outputs": [],
   "source": []
  },
  {
   "cell_type": "code",
   "execution_count": 2,
   "metadata": {},
   "outputs": [
    {
     "name": "stdout",
     "output_type": "stream",
     "text": [
      "[[1. 5.]\n",
      " [4. 8.]]\n",
      "[[1.   2.   4.   5.  ]\n",
      " [1.75 2.75 4.75 5.75]\n",
      " [3.25 4.25 6.25 7.25]\n",
      " [4.   5.   7.   8.  ]]\n"
     ]
    }
   ],
   "source": [
    "# example 2\n",
    "import numpy as np\n",
    "import cv2\n",
    "\n",
    "data = np.array([[1.0, 5.0],\n",
    "                 [4.0, 8.0]])\n",
    "\n",
    "# new dimension\n",
    "width, height = 2, 2\n",
    "upscale = 2\n",
    "new_dim = (width*upscale, height*upscale)\n",
    "\n",
    "# upsampling the data\n",
    "resize_bilinear = cv2.resize(data, new_dim, \n",
    "                             interpolation=cv2.INTER_LINEAR)\n",
    "\n",
    "print(data)\n",
    "print(resize_bilinear)"
   ]
  },
  {
   "cell_type": "code",
   "execution_count": null,
   "metadata": {},
   "outputs": [],
   "source": []
  },
  {
   "cell_type": "markdown",
   "metadata": {},
   "source": [
    "## Interpolation Using Pytorch"
   ]
  },
  {
   "cell_type": "code",
   "execution_count": 8,
   "metadata": {},
   "outputs": [
    {
     "name": "stdout",
     "output_type": "stream",
     "text": [
      "torch.Size([1, 1, 2, 2])\n"
     ]
    }
   ],
   "source": [
    "import numpy as np\n",
    "import torch\n",
    "import torch.nn as nn\n",
    "\n",
    "data = torch.Tensor([[1.0, 5.0],\n",
    "                     [4.0, 8.0]])\n",
    "data = data.reshape(1, 1, 2, 2)   # bs, channel, H, W\n",
    "print(data.shape)"
   ]
  },
  {
   "cell_type": "code",
   "execution_count": null,
   "metadata": {},
   "outputs": [],
   "source": []
  },
  {
   "cell_type": "code",
   "execution_count": 9,
   "metadata": {},
   "outputs": [
    {
     "name": "stdout",
     "output_type": "stream",
     "text": [
      "tensor([[[[1., 1., 5., 5.],\n",
      "          [1., 1., 5., 5.],\n",
      "          [4., 4., 8., 8.],\n",
      "          [4., 4., 8., 8.]]]])\n"
     ]
    }
   ],
   "source": [
    "# nearest\n",
    "up_sample = nn.Upsample(scale_factor=2,\n",
    "                        mode='nearest')\n",
    "output = up_sample(data)\n",
    "print(output)"
   ]
  },
  {
   "cell_type": "code",
   "execution_count": null,
   "metadata": {},
   "outputs": [],
   "source": []
  },
  {
   "cell_type": "code",
   "execution_count": null,
   "metadata": {},
   "outputs": [],
   "source": []
  },
  {
   "cell_type": "code",
   "execution_count": 10,
   "metadata": {},
   "outputs": [
    {
     "name": "stdout",
     "output_type": "stream",
     "text": [
      "tensor([[[[1.0000, 2.3333, 3.6667, 5.0000],\n",
      "          [2.0000, 3.3333, 4.6667, 6.0000],\n",
      "          [3.0000, 4.3333, 5.6667, 7.0000],\n",
      "          [4.0000, 5.3333, 6.6667, 8.0000]]]])\n"
     ]
    }
   ],
   "source": [
    "# bilinear\n",
    "up_sample = nn.Upsample(scale_factor=2,\n",
    "                        mode='bilinear', \n",
    "                        align_corners=True)\n",
    "output = up_sample(data)\n",
    "print(output)"
   ]
  },
  {
   "cell_type": "code",
   "execution_count": null,
   "metadata": {},
   "outputs": [],
   "source": []
  },
  {
   "cell_type": "markdown",
   "metadata": {},
   "source": [
    "## Using Reshape() Function"
   ]
  },
  {
   "cell_type": "code",
   "execution_count": 15,
   "metadata": {},
   "outputs": [
    {
     "name": "stdout",
     "output_type": "stream",
     "text": [
      "torch.Size([1, 1, 2, 2])\n"
     ]
    }
   ],
   "source": [
    "import numpy as np\n",
    "import torch\n",
    "import torch.nn as nn\n",
    "\n",
    "data = torch.Tensor([[1.0, 5.0],\n",
    "                     [4.0, 8.0]])\n",
    "data = data.reshape(1, 1, 2, 2)   # bs, channel, H, W\n",
    "print(data.shape)"
   ]
  },
  {
   "cell_type": "code",
   "execution_count": null,
   "metadata": {},
   "outputs": [],
   "source": []
  },
  {
   "cell_type": "code",
   "execution_count": 18,
   "metadata": {},
   "outputs": [
    {
     "name": "stdout",
     "output_type": "stream",
     "text": [
      "torch.Size([1, 1, 4, 4])\n"
     ]
    }
   ],
   "source": [
    "C_in, H_in, W_in = 1, 2, 2\n",
    "c_out = 1\n",
    "conv = nn.Conv2d(C_in, c_out*4, kernel_size=3, padding=1)\n",
    "\n",
    "output = conv(data)\n",
    "output = output.reshape(1, c_out, H_in*2, W_in*2)\n",
    "print(output.shape)"
   ]
  },
  {
   "cell_type": "code",
   "execution_count": null,
   "metadata": {},
   "outputs": [],
   "source": []
  },
  {
   "cell_type": "code",
   "execution_count": 19,
   "metadata": {},
   "outputs": [
    {
     "name": "stdout",
     "output_type": "stream",
     "text": [
      "torch.Size([1, 1, 4, 4])\n"
     ]
    }
   ],
   "source": [
    "C_in, H_in, W_in = 1, 2, 2\n",
    "c_out = 1\n",
    "conv = nn.Conv2d(C_in, c_out*4, kernel_size=3, padding=1)\n",
    "\n",
    "output = conv(data)\n",
    "output = output.view(1, c_out, H_in*2, W_in*2)\n",
    "print(output.shape)"
   ]
  },
  {
   "cell_type": "code",
   "execution_count": null,
   "metadata": {},
   "outputs": [],
   "source": []
  },
  {
   "cell_type": "markdown",
   "metadata": {},
   "source": [
    "## PixelShuffle"
   ]
  },
  {
   "cell_type": "code",
   "execution_count": 28,
   "metadata": {},
   "outputs": [
    {
     "name": "stdout",
     "output_type": "stream",
     "text": [
      "torch.Size([1, 4, 1, 1])\n"
     ]
    }
   ],
   "source": [
    "import torch\n",
    "import torch.nn as nn\n",
    "\n",
    "data = torch.Tensor([1, 2, 3, 4])\n",
    "data = data.reshape(1, 4, 1, 1)   # bs, channel, H, W\n",
    "print(data.shape)"
   ]
  },
  {
   "cell_type": "code",
   "execution_count": null,
   "metadata": {},
   "outputs": [],
   "source": []
  },
  {
   "cell_type": "code",
   "execution_count": 29,
   "metadata": {},
   "outputs": [
    {
     "name": "stdout",
     "output_type": "stream",
     "text": [
      "tensor([[[[1., 2.],\n",
      "          [3., 4.]]]])\n",
      "torch.Size([1, 1, 2, 2])\n"
     ]
    }
   ],
   "source": [
    "shuffle = nn.PixelShuffle(2)\n",
    "output = shuffle(data)\n",
    "print(output)\n",
    "print(output.shape)"
   ]
  },
  {
   "cell_type": "code",
   "execution_count": null,
   "metadata": {},
   "outputs": [],
   "source": []
  },
  {
   "cell_type": "code",
   "execution_count": 31,
   "metadata": {},
   "outputs": [
    {
     "name": "stdout",
     "output_type": "stream",
     "text": [
      "torch.Size([1, 2, 2, 2])\n"
     ]
    }
   ],
   "source": [
    "import torch\n",
    "import torch.nn as nn\n",
    "\n",
    "data = torch.Tensor([1, 2, 3, 4, 5, 6, 7, 8])\n",
    "data = data.reshape(1, 8, 1, 1)   # bs, channel, H, W\n",
    "\n",
    "shuffle = nn.PixelShuffle(2)\n",
    "output = shuffle(data)\n",
    "print(output.shape)"
   ]
  },
  {
   "cell_type": "code",
   "execution_count": 32,
   "metadata": {},
   "outputs": [
    {
     "name": "stdout",
     "output_type": "stream",
     "text": [
      "tensor([[1., 2.],\n",
      "        [3., 4.]])\n"
     ]
    }
   ],
   "source": [
    "print(output[0, 0, :, :])"
   ]
  },
  {
   "cell_type": "code",
   "execution_count": 33,
   "metadata": {},
   "outputs": [
    {
     "name": "stdout",
     "output_type": "stream",
     "text": [
      "tensor([[5., 6.],\n",
      "        [7., 8.]])\n"
     ]
    }
   ],
   "source": [
    "print(output[0, 1, :, :])"
   ]
  },
  {
   "cell_type": "code",
   "execution_count": null,
   "metadata": {},
   "outputs": [],
   "source": []
  },
  {
   "cell_type": "markdown",
   "metadata": {},
   "source": [
    "## Unpooling"
   ]
  },
  {
   "cell_type": "code",
   "execution_count": 35,
   "metadata": {},
   "outputs": [
    {
     "name": "stdout",
     "output_type": "stream",
     "text": [
      "torch.Size([1, 1, 4, 4])\n",
      "tensor([[[[1., 2., 3., 4.],\n",
      "          [5., 6., 7., 8.],\n",
      "          [9., 8., 7., 6.],\n",
      "          [5., 4., 3., 2.]]]])\n"
     ]
    }
   ],
   "source": [
    "import torch\n",
    "import torch.nn as nn\n",
    "\n",
    "data = torch.Tensor([[1, 2, 3, 4],\n",
    "                     [5, 6, 7, 8],\n",
    "                     [9, 8, 7, 6],\n",
    "                     [5, 4, 3, 2]])\n",
    "data = data.reshape(1, 1, 4, 4)   # bs, channel, H, W\n",
    "print(data.shape)\n",
    "print(data)"
   ]
  },
  {
   "cell_type": "code",
   "execution_count": null,
   "metadata": {},
   "outputs": [],
   "source": []
  },
  {
   "cell_type": "code",
   "execution_count": 37,
   "metadata": {},
   "outputs": [
    {
     "name": "stdout",
     "output_type": "stream",
     "text": [
      "tensor([[[[6., 8.],\n",
      "          [9., 7.]]]])\n",
      "tensor([[[[ 5,  7],\n",
      "          [ 8, 10]]]])\n"
     ]
    }
   ],
   "source": [
    "max_pooling = nn.MaxPool2d(2, return_indices=True)\n",
    "output_mp, indices = max_pooling(data)\n",
    "\n",
    "print(output_mp)\n",
    "print(indices)"
   ]
  },
  {
   "cell_type": "code",
   "execution_count": 43,
   "metadata": {},
   "outputs": [
    {
     "data": {
      "text/plain": [
       "torch.Size([1, 1, 2, 2])"
      ]
     },
     "execution_count": 43,
     "metadata": {},
     "output_type": "execute_result"
    }
   ],
   "source": [
    "indices.shape"
   ]
  },
  {
   "cell_type": "code",
   "execution_count": 38,
   "metadata": {},
   "outputs": [
    {
     "name": "stdout",
     "output_type": "stream",
     "text": [
      "torch.Size([1, 1, 4, 4])\n"
     ]
    }
   ],
   "source": [
    "max_unpooling = nn.MaxUnpool2d(kernel_size=2)\n",
    "output_mup = max_unpooling(output_mp, indices)\n",
    "print(output_mup.shape)"
   ]
  },
  {
   "cell_type": "code",
   "execution_count": 39,
   "metadata": {},
   "outputs": [
    {
     "name": "stdout",
     "output_type": "stream",
     "text": [
      "tensor([[0., 0., 0., 0.],\n",
      "        [0., 6., 0., 8.],\n",
      "        [9., 0., 7., 0.],\n",
      "        [0., 0., 0., 0.]])\n"
     ]
    }
   ],
   "source": [
    "print(output_mup[0,0,:,:])"
   ]
  },
  {
   "cell_type": "code",
   "execution_count": null,
   "metadata": {},
   "outputs": [],
   "source": []
  },
  {
   "cell_type": "markdown",
   "metadata": {},
   "source": [
    "## ConvTranspose"
   ]
  },
  {
   "cell_type": "code",
   "execution_count": 1,
   "metadata": {},
   "outputs": [
    {
     "name": "stdout",
     "output_type": "stream",
     "text": [
      "torch.Size([1, 1, 2, 2])\n"
     ]
    }
   ],
   "source": [
    "import numpy as np\n",
    "import torch\n",
    "import torch.nn as nn\n",
    "\n",
    "data = torch.Tensor([[1.0, 5.0],\n",
    "                     [4.0, 8.0]])\n",
    "data = data.reshape(1, 1, 2, 2)   # bs, channel, H, W\n",
    "print(data.shape)"
   ]
  },
  {
   "cell_type": "code",
   "execution_count": null,
   "metadata": {},
   "outputs": [],
   "source": []
  },
  {
   "cell_type": "code",
   "execution_count": 2,
   "metadata": {},
   "outputs": [
    {
     "name": "stdout",
     "output_type": "stream",
     "text": [
      "torch.Size([1, 1, 4, 4])\n"
     ]
    }
   ],
   "source": [
    "conv_t = nn.ConvTranspose2d(1, 1, kernel_size=4, stride=2, padding=1, output_padding=0)\n",
    "\n",
    "output = conv_t(data)\n",
    "print(output.shape)"
   ]
  },
  {
   "cell_type": "code",
   "execution_count": 3,
   "metadata": {},
   "outputs": [
    {
     "name": "stdout",
     "output_type": "stream",
     "text": [
      "torch.Size([1, 1, 5, 5])\n"
     ]
    }
   ],
   "source": [
    "conv_t = nn.ConvTranspose2d(1, 1, kernel_size=3, stride=2, padding=0, output_padding=0)\n",
    "\n",
    "output = conv_t(data)\n",
    "print(output.shape)"
   ]
  },
  {
   "cell_type": "code",
   "execution_count": 57,
   "metadata": {},
   "outputs": [
    {
     "name": "stdout",
     "output_type": "stream",
     "text": [
      "torch.Size([1, 1, 7, 7])\n"
     ]
    }
   ],
   "source": [
    "conv_t = nn.ConvTranspose2d(1, 1, kernel_size=4, stride=2, padding=0, output_padding=1)\n",
    "\n",
    "output = conv_t(data)\n",
    "print(output.shape)"
   ]
  },
  {
   "cell_type": "code",
   "execution_count": 59,
   "metadata": {},
   "outputs": [
    {
     "name": "stdout",
     "output_type": "stream",
     "text": [
      "torch.Size([1, 1, 4, 4])\n"
     ]
    }
   ],
   "source": [
    "conv_t = nn.ConvTranspose2d(1, 1, kernel_size=4, stride=2, padding=1, output_padding=0)\n",
    "\n",
    "output = conv_t(data)\n",
    "print(output.shape)"
   ]
  },
  {
   "cell_type": "code",
   "execution_count": null,
   "metadata": {},
   "outputs": [],
   "source": []
  }
 ],
 "metadata": {
  "kernelspec": {
   "display_name": "Python 3 (ipykernel)",
   "language": "python",
   "name": "python3"
  },
  "language_info": {
   "codemirror_mode": {
    "name": "ipython",
    "version": 3
   },
   "file_extension": ".py",
   "mimetype": "text/x-python",
   "name": "python",
   "nbconvert_exporter": "python",
   "pygments_lexer": "ipython3",
   "version": "3.11.5"
  }
 },
 "nbformat": 4,
 "nbformat_minor": 4
}
